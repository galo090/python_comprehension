{
 "cells": [
  {
   "cell_type": "markdown",
   "id": "a8111fc3",
   "metadata": {},
   "source": [
    "##### 1) Use dictionary comprehension and the temperature formula, convert the temperatures below from fahrenheit to Celsius:\n",
    "#### Initialize the fahrenheit dictionary fahrenheit = {'t1': -30,'t2': -20,'t3': -10,'t4': 0}\n",
    "\n",
    "##### 2) Finding the elements in a list in which elements are ended with the letter ‘b’ and the length of that element is greater than 2\n",
    "##### names = ['Ch','Dh','Eh','cb','Tb','Td','Chb','Tdb']\n",
    "\n",
    "##### 3) Combine the two variables below into a dictionary: \n",
    "##### days = [\"Sunday\", \"Monday\",\"Tuesday\",\"Wednesday\",\"Thursday\",\"Friday\",\"Saturday\"]\n",
    "##### temp_C = [30.5,32.6,31.8,33.4,29.8,30.2,29.9]"
   ]
  },
  {
   "cell_type": "code",
   "execution_count": 1,
   "id": "0fc21aa8",
   "metadata": {},
   "outputs": [
    {
     "name": "stdout",
     "output_type": "stream",
     "text": [
      "{'t1': -34.44444444444444, 't2': -28.88888888888889, 't3': -23.333333333333332, 't4': -17.77777777777778}\n"
     ]
    }
   ],
   "source": [
    "fahrenheit = {'t1': -30,'t2': -20,'t3': -10,'t4': 0}\n",
    "celsius = {key: (value - 32) * 5/9 for key, value in fahrenheit.items()}\n",
    "print(celsius)"
   ]
  },
  {
   "cell_type": "code",
   "execution_count": 4,
   "id": "b60d52a1",
   "metadata": {},
   "outputs": [
    {
     "name": "stdout",
     "output_type": "stream",
     "text": [
      "['cb', 'Tb', 'Chb', 'Tdb']\n"
     ]
    }
   ],
   "source": [
    "names = ['Ch','Dh','Eh','cb','Tb','Td','Chb','Tdb']\n",
    "result = [name for name in names if name.endswith('b')]\n",
    "print(result)"
   ]
  },
  {
   "cell_type": "code",
   "execution_count": 6,
   "id": "c8014da5",
   "metadata": {},
   "outputs": [
    {
     "name": "stdout",
     "output_type": "stream",
     "text": [
      "{'Sunday': 30.5, 'Monday': 32.6, 'Tuesday': 31.8, 'Wednesday': 33.4, 'Thursday': 29.8, 'Friday': 30.2, 'Saturday': 29.9}\n"
     ]
    }
   ],
   "source": [
    "days = [\"Sunday\", \"Monday\",\"Tuesday\",\"Wednesday\",\"Thursday\",\"Friday\",\"Saturday\"]\n",
    "temp_C = [30.5, 32.6, 31.8, 33.4, 29.8, 30.2, 29.9]\n",
    "\n",
    "temperature_dict = dict(zip(days, temp_C))\n",
    "print(temperature_dict)"
   ]
  }
 ],
 "metadata": {
  "kernelspec": {
   "display_name": "Python 3",
   "language": "python",
   "name": "python3"
  },
  "language_info": {
   "codemirror_mode": {
    "name": "ipython",
    "version": 3
   },
   "file_extension": ".py",
   "mimetype": "text/x-python",
   "name": "python",
   "nbconvert_exporter": "python",
   "pygments_lexer": "ipython3",
   "version": "3.13.3"
  }
 },
 "nbformat": 4,
 "nbformat_minor": 5
}
